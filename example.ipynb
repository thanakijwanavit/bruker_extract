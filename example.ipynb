{
 "cells": [
  {
   "cell_type": "markdown",
   "metadata": {},
   "source": [
    "## test object"
   ]
  },
  {
   "cell_type": "code",
   "execution_count": 16,
   "metadata": {},
   "outputs": [],
   "source": [
    "from bruker_load import Wave"
   ]
  },
  {
   "cell_type": "code",
   "execution_count": 17,
   "metadata": {},
   "outputs": [],
   "source": [
    "root=\"./sample_data\"\n",
    "wave_object=Wave(root)"
   ]
  },
  {
   "cell_type": "code",
   "execution_count": 19,
   "metadata": {},
   "outputs": [
    {
     "name": "stdout",
     "output_type": "stream",
     "text": [
      "['Fish Meal - RM_NK_26062019_812910_20190626_110609',\n",
      " 'Fish Meal - RM_NK_26062019_812910_20190626_110715',\n",
      " 'Fish Meal - RM_NK_26062019_812910_20190626_110642',\n",
      " 'Fish Meal - RM_M359_12062019_MIX3_20190612_170936']\n"
     ]
    }
   ],
   "source": [
    "# list names of files\n",
    "wave_object.list_names()"
   ]
  },
  {
   "cell_type": "code",
   "execution_count": 20,
   "metadata": {},
   "outputs": [],
   "source": [
    "## save file as csv\n",
    "wave_object.to_csv('csv_test')"
   ]
  },
  {
   "cell_type": "code",
   "execution_count": 21,
   "metadata": {},
   "outputs": [
    {
     "name": "stdout",
     "output_type": "stream",
     "text": [
      "['./csv_test/Fish Meal - RM_M359_12062019_MIX3_20190612_170936.csv', 'Fish Meal - RM_M359_12062019_MIX3_20190612_170936']\n",
      "['./csv_test/Fish Meal - RM_NK_26062019_812910_20190626_110715.csv', 'Fish Meal - RM_NK_26062019_812910_20190626_110715']\n",
      "['./csv_test/Fish Meal - RM_NK_26062019_812910_20190626_110609.csv', 'Fish Meal - RM_NK_26062019_812910_20190626_110609']\n",
      "['./csv_test/Fish Meal - RM_NK_26062019_812910_20190626_110642.csv', 'Fish Meal - RM_NK_26062019_812910_20190626_110642']\n"
     ]
    },
    {
     "data": {
      "text/plain": [
       "{'Fish Meal - RM_M359_12062019_MIX3_20190612_170936':                 intensity(relative)\n",
       " wavelength(nm)                     \n",
       " 2781.724233                1.590626\n",
       " 2775.767650                1.592232\n",
       " 2769.836522                1.570194\n",
       " 2763.930687                1.541067\n",
       " 2758.049984                1.514623\n",
       " ...                             ...\n",
       " 802.652317                 0.564891\n",
       " 802.155627                 0.567771\n",
       " 801.659550                 0.567766\n",
       " 801.164087                 0.565896\n",
       " 800.669236                 0.565742\n",
       " \n",
       " [1154 rows x 1 columns],\n",
       " 'Fish Meal - RM_NK_26062019_812910_20190626_110715':                 intensity(relative)\n",
       " wavelength(nm)                     \n",
       " 2781.724233                1.509710\n",
       " 2775.767650                1.483700\n",
       " 2769.836522                1.454616\n",
       " 2763.930687                1.432346\n",
       " 2758.049984                1.405979\n",
       " ...                             ...\n",
       " 802.652317                 0.477367\n",
       " 802.155627                 0.478774\n",
       " 801.659550                 0.479125\n",
       " 801.164087                 0.480058\n",
       " 800.669236                 0.481621\n",
       " \n",
       " [1154 rows x 1 columns],\n",
       " 'Fish Meal - RM_NK_26062019_812910_20190626_110609':                 intensity(relative)\n",
       " wavelength(nm)                     \n",
       " 2781.724233                1.501996\n",
       " 2775.767650                1.497911\n",
       " 2769.836522                1.462269\n",
       " 2763.930687                1.437581\n",
       " 2758.049984                1.422963\n",
       " ...                             ...\n",
       " 802.652317                 0.476403\n",
       " 802.155627                 0.476773\n",
       " 801.659550                 0.477655\n",
       " 801.164087                 0.478238\n",
       " 800.669236                 0.477997\n",
       " \n",
       " [1154 rows x 1 columns],\n",
       " 'Fish Meal - RM_NK_26062019_812910_20190626_110642':                 intensity(relative)\n",
       " wavelength(nm)                     \n",
       " 2781.724233                1.456769\n",
       " 2775.767650                1.464532\n",
       " 2769.836522                1.459700\n",
       " 2763.930687                1.435167\n",
       " 2758.049984                1.402716\n",
       " ...                             ...\n",
       " 802.652317                 0.476748\n",
       " 802.155627                 0.476934\n",
       " 801.659550                 0.476770\n",
       " 801.164087                 0.477019\n",
       " 800.669236                 0.477084\n",
       " \n",
       " [1154 rows x 1 columns]}"
      ]
     },
     "execution_count": 21,
     "metadata": {},
     "output_type": "execute_result"
    }
   ],
   "source": [
    "#load csv file\n",
    "wave_object.load_csv('./csv_test')"
   ]
  },
  {
   "cell_type": "code",
   "execution_count": 22,
   "metadata": {},
   "outputs": [
    {
     "name": "stdout",
     "output_type": "stream",
     "text": [
      "['Fish Meal - RM_M359_12062019_MIX3_20190612_170936',\n",
      " 'Fish Meal - RM_NK_26062019_812910_20190626_110715',\n",
      " 'Fish Meal - RM_NK_26062019_812910_20190626_110609',\n",
      " 'Fish Meal - RM_NK_26062019_812910_20190626_110642']\n"
     ]
    }
   ],
   "source": [
    "# list names of files\n",
    "wave_object.list_names()"
   ]
  },
  {
   "cell_type": "code",
   "execution_count": 24,
   "metadata": {},
   "outputs": [
    {
     "data": {
      "image/png": "[encoded data removed]",
      "text/plain": [
       "<Figure size 432x288 with 1 Axes>"
      ]
     },
     "metadata": {
      "needs_background": "light"
     },
     "output_type": "display_data"
    }
   ],
   "source": [
    "# plot chart of file (matplotlibb)\n",
    "wave_object.plot('Fish Meal - RM_M359_12062019_MIX3_20190612_170936')"
   ]
  },
  {
   "cell_type": "code",
   "execution_count": null,
   "metadata": {},
   "outputs": [],
   "source": []
  },
  {
   "cell_type": "code",
   "execution_count": null,
   "metadata": {},
   "outputs": [],
   "source": []
  }
 ],
 "metadata": {
  "kernelspec": {
   "display_name": "Python 3",
   "language": "python",
   "name": "python3"
  },
  "language_info": {
   "codemirror_mode": {
    "name": "ipython",
    "version": 3
   },
   "file_extension": ".py",
   "mimetype": "text/x-python",
   "name": "python",
   "nbconvert_exporter": "python",
   "pygments_lexer": "ipython3",
   "version": "3.6.8"
  }
 },
 "nbformat": 4,
 "nbformat_minor": 2
}
